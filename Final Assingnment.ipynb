{
 "cells": [
  {
   "cell_type": "markdown",
   "id": "60204919-5906-4d7c-bb83-aeda4f6f676d",
   "metadata": {},
   "source": [
    "# The Module 5 Assignment\n",
    "#### Author : Youssef Moustaid"
   ]
  },
  {
   "cell_type": "markdown",
   "id": "c13ea967-5e63-4085-8248-e408f24311c2",
   "metadata": {},
   "source": [
    "##### Table of contents : \n",
    "- Question 1 - Extracting Tesla Stock Data Using yfinance - 2 Points\n",
    "- Question 2 - Extracting Tesla Revenue Data Using Webscraping - 1 Points\n",
    "- Question 3 - Extracting GameStop Stock Data Using yfinance - 2 Points\n",
    "- Question 4 - Extracting GameStop Revenue Data Using Webscraping - 1 Points\n",
    "- Question 5 - Tesla Stock and Revenue Dashboard - 2 Points\n",
    "- Question 6 - GameStop Stock and Revenue Dashboard- 2 Points\n",
    "- Question 7 - Sharing your Assignment Notebook - 2 Points"
   ]
  },
  {
   "cell_type": "markdown",
   "id": "964223d5-4ae1-4ab8-a538-639a559def72",
   "metadata": {},
   "source": [
    "## Question 1 : Extracting Tesla Stock Data Using yfinance "
   ]
  },
  {
   "cell_type": "markdown",
   "id": "734ffc58-c763-4d00-bbca-979d15cb15bf",
   "metadata": {},
   "source": [
    "first the necessary imports "
   ]
  },
  {
   "cell_type": "code",
   "execution_count": null,
   "id": "3fb0665b-dd8a-4762-9f71-6c15ef005bf2",
   "metadata": {},
   "outputs": [],
   "source": [
    "import pandas as pd\n",
    "import matplotlib as mp\n",
    "import "
   ]
  },
  {
   "cell_type": "markdown",
   "id": "94bb90f2-c727-45c2-a47a-9c32d90d8ef3",
   "metadata": {},
   "source": [
    "## Question 2 : Extracting Tesla Revenue Data Using Webscraping"
   ]
  },
  {
   "cell_type": "markdown",
   "id": "68bca84b-4203-4a89-8ceb-f39a23596b2c",
   "metadata": {},
   "source": [
    "## Question 3 : Extracting GameStop Stock Data Using yfinance"
   ]
  },
  {
   "cell_type": "markdown",
   "id": "abdf724f-8cca-4b56-b4f1-586da4e425ce",
   "metadata": {},
   "source": [
    "## Question 4 : Extracting GameStop Revenue Data Using Webscraping"
   ]
  },
  {
   "cell_type": "markdown",
   "id": "77dd2342-7316-40c5-9d38-5d8a8a316b4e",
   "metadata": {},
   "source": [
    "## Question 5 :  Tesla Stock and Revenue Dashboard"
   ]
  },
  {
   "cell_type": "markdown",
   "id": "846ca659-1115-43ae-af20-252d835153ff",
   "metadata": {},
   "source": [
    "## Question 6 : GameStop Stock and Revenue Dashboard"
   ]
  },
  {
   "cell_type": "code",
   "execution_count": null,
   "id": "5beeeb2c-be24-4428-8fc5-3083563a00cf",
   "metadata": {},
   "outputs": [],
   "source": []
  }
 ],
 "metadata": {
  "kernelspec": {
   "display_name": "Python 3 (ipykernel)",
   "language": "python",
   "name": "python3"
  },
  "language_info": {
   "codemirror_mode": {
    "name": "ipython",
    "version": 3
   },
   "file_extension": ".py",
   "mimetype": "text/x-python",
   "name": "python",
   "nbconvert_exporter": "python",
   "pygments_lexer": "ipython3",
   "version": "3.9.12"
  }
 },
 "nbformat": 4,
 "nbformat_minor": 5
}
